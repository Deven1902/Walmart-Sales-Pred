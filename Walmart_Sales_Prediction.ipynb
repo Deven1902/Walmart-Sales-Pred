{
  "nbformat": 4,
  "nbformat_minor": 0,
  "metadata": {
    "colab": {
      "provenance": []
    },
    "kernelspec": {
      "name": "python3",
      "display_name": "Python 3"
    },
    "language_info": {
      "name": "python"
    }
  },
  "cells": [
    {
      "cell_type": "code",
      "execution_count": 1,
      "metadata": {
        "id": "DRmmYkwGAYE4"
      },
      "outputs": [],
      "source": [
        "import numpy as np\n",
        "import pandas as pd\n"
      ]
    },
    {
      "cell_type": "code",
      "source": [
        "from sklearn.model_selection import train_test_split"
      ],
      "metadata": {
        "id": "MEm6bdcJAqlK"
      },
      "execution_count": 2,
      "outputs": []
    },
    {
      "cell_type": "code",
      "source": [
        "from sklearn.ensemble import RandomForestRegressor as rf\n",
        "from sklearn.ensemble import ExtraTreesClassifier\n",
        "from sklearn.linear_model import LogisticRegression\n",
        "from sklearn.ensemble import VotingClassifier"
      ],
      "metadata": {
        "id": "YtAl4LO3A3Bg"
      },
      "execution_count": 3,
      "outputs": []
    },
    {
      "cell_type": "code",
      "source": [
        "from sklearn.metrics import  confusion_matrix,log_loss\n",
        "from scipy.optimize import minimize"
      ],
      "metadata": {
        "id": "wx-VgxSTA55E"
      },
      "execution_count": 4,
      "outputs": []
    },
    {
      "cell_type": "code",
      "source": [
        "import os, time, gc\n",
        "import matplotlib.pyplot as plt\n",
        "import seaborn as sns"
      ],
      "metadata": {
        "id": "s6S8clxiA8bT"
      },
      "execution_count": 5,
      "outputs": []
    },
    {
      "cell_type": "code",
      "source": [
        "from sklearn.metrics import mean_squared_error\n",
        "from sklearn.preprocessing import StandardScaler as ss\n",
        "from sklearn.decomposition import PCA"
      ],
      "metadata": {
        "id": "sevorHaNBBCl"
      },
      "execution_count": 6,
      "outputs": []
    },
    {
      "cell_type": "code",
      "source": [
        "import warnings\n",
        "warnings.filterwarnings(\"ignore\")"
      ],
      "metadata": {
        "id": "u1t-JTU2IJrL"
      },
      "execution_count": 7,
      "outputs": []
    },
    {
      "cell_type": "code",
      "source": [
        "df = pd.read_csv(\"/content/walmart-sales-dataset-of-45stores.csv\",\n",
        "                    parse_dates = ['Date']\n",
        "                )"
      ],
      "metadata": {
        "id": "r_I9aO5lBMBR"
      },
      "execution_count": 8,
      "outputs": []
    },
    {
      "cell_type": "code",
      "source": [
        "df.info"
      ],
      "metadata": {
        "id": "HVnNPIszBjJv",
        "colab": {
          "base_uri": "https://localhost:8080/"
        },
        "outputId": "9ed08dce-2d76-4313-cca8-cc522aa1349c"
      },
      "execution_count": 9,
      "outputs": [
        {
          "output_type": "execute_result",
          "data": {
            "text/plain": [
              "<bound method DataFrame.info of       Store       Date  Weekly_Sales  Holiday_Flag  Temperature  Fuel_Price  \\\n",
              "0         1 2010-05-02    1643690.90             0        42.31       2.572   \n",
              "1         1 2010-12-02    1641957.44             1        38.51       2.548   \n",
              "2         1 2010-02-19    1611968.17             0        39.93       2.514   \n",
              "3         1 2010-02-26    1409727.59             0        46.63       2.561   \n",
              "4         1 2010-05-03    1554806.68             0        46.50       2.625   \n",
              "...     ...        ...           ...           ...          ...         ...   \n",
              "6430     45 2012-09-28     713173.95             0        64.88       3.997   \n",
              "6431     45 2012-05-10     733455.07             0        64.89       3.985   \n",
              "6432     45 2012-12-10     734464.36             0        54.47       4.000   \n",
              "6433     45 2012-10-19     718125.53             0        56.47       3.969   \n",
              "6434     45 2012-10-26     760281.43             0        58.85       3.882   \n",
              "\n",
              "             CPI  Unemployment  \n",
              "0     211.096358         8.106  \n",
              "1     211.242170         8.106  \n",
              "2     211.289143         8.106  \n",
              "3     211.319643         8.106  \n",
              "4     211.350143         8.106  \n",
              "...          ...           ...  \n",
              "6430  192.013558         8.684  \n",
              "6431  192.170412         8.667  \n",
              "6432  192.327265         8.667  \n",
              "6433  192.330854         8.667  \n",
              "6434  192.308899         8.667  \n",
              "\n",
              "[6435 rows x 8 columns]>"
            ]
          },
          "metadata": {},
          "execution_count": 9
        }
      ]
    },
    {
      "cell_type": "code",
      "source": [
        "df.head"
      ],
      "metadata": {
        "colab": {
          "base_uri": "https://localhost:8080/"
        },
        "id": "gZoWGDjWDdEB",
        "outputId": "ba07dda1-2f4f-4760-dd3f-1672be2abffb"
      },
      "execution_count": 10,
      "outputs": [
        {
          "output_type": "execute_result",
          "data": {
            "text/plain": [
              "<bound method NDFrame.head of       Store       Date  Weekly_Sales  Holiday_Flag  Temperature  Fuel_Price  \\\n",
              "0         1 2010-05-02    1643690.90             0        42.31       2.572   \n",
              "1         1 2010-12-02    1641957.44             1        38.51       2.548   \n",
              "2         1 2010-02-19    1611968.17             0        39.93       2.514   \n",
              "3         1 2010-02-26    1409727.59             0        46.63       2.561   \n",
              "4         1 2010-05-03    1554806.68             0        46.50       2.625   \n",
              "...     ...        ...           ...           ...          ...         ...   \n",
              "6430     45 2012-09-28     713173.95             0        64.88       3.997   \n",
              "6431     45 2012-05-10     733455.07             0        64.89       3.985   \n",
              "6432     45 2012-12-10     734464.36             0        54.47       4.000   \n",
              "6433     45 2012-10-19     718125.53             0        56.47       3.969   \n",
              "6434     45 2012-10-26     760281.43             0        58.85       3.882   \n",
              "\n",
              "             CPI  Unemployment  \n",
              "0     211.096358         8.106  \n",
              "1     211.242170         8.106  \n",
              "2     211.289143         8.106  \n",
              "3     211.319643         8.106  \n",
              "4     211.350143         8.106  \n",
              "...          ...           ...  \n",
              "6430  192.013558         8.684  \n",
              "6431  192.170412         8.667  \n",
              "6432  192.327265         8.667  \n",
              "6433  192.330854         8.667  \n",
              "6434  192.308899         8.667  \n",
              "\n",
              "[6435 rows x 8 columns]>"
            ]
          },
          "metadata": {},
          "execution_count": 10
        }
      ]
    },
    {
      "cell_type": "code",
      "source": [
        "def mapQuarters(num):\n",
        "    #This function returns the absolute value of the entered number\n",
        "\n",
        "    if num >= 1 and num <=3:\n",
        "        return 1\n",
        "    if num >= 4 and num <=6:\n",
        "        return 2\n",
        "    if num >= 7 and num <=9:\n",
        "        return 3\n",
        "    if num >= 10 and num <=12:\n",
        "        return 4"
      ],
      "metadata": {
        "id": "_s6C4CYqDe2m"
      },
      "execution_count": 11,
      "outputs": []
    },
    {
      "cell_type": "code",
      "source": [
        "df['Day'] = df['Date'].dt.dayofweek #0 for monday through 6 for sunday\n",
        "df['month'] = df['Date'].dt.month\n",
        "df['quarter']=df['month'].apply(lambda x : mapQuarters(x))"
      ],
      "metadata": {
        "id": "Px3HT7C_ERgC"
      },
      "execution_count": 12,
      "outputs": []
    },
    {
      "cell_type": "code",
      "source": [
        "df.drop(['Date'], axis=1, inplace=True)"
      ],
      "metadata": {
        "id": "sSFJiojeEd-7"
      },
      "execution_count": 13,
      "outputs": []
    },
    {
      "cell_type": "code",
      "source": [
        "df['Weekly_Sales'] = np.log(df['Weekly_Sales'])\n",
        "y=df.pop('Weekly_Sales')\n",
        "X_train, X_test, y_train,y_test = train_test_split(\n",
        "                                                   df,\n",
        "                                                   y,\n",
        "                                                   test_size = 0.3,\n",
        "                                                   shuffle= True)"
      ],
      "metadata": {
        "id": "bSPbSbgyEk9R"
      },
      "execution_count": 14,
      "outputs": []
    },
    {
      "cell_type": "code",
      "source": [
        "resultsMSE = []\n",
        "trees = [500,1000,1500,2000]\n",
        "depth= [3,5,7,9,12]\n",
        "for tree in range(1,10,1):\n",
        "  for depth in range(1,15,1):\n",
        "            clf = rf( n_estimators=tree,\n",
        "            bootstrap=True,\n",
        "            oob_score=True,\n",
        "            max_depth = depth )\n",
        "\n",
        "            clf.fit(X_train, y_train)\n",
        "            prediction = clf.predict(X_test)\n",
        "            mse = mean_squared_error(y_test, prediction)\n",
        "\n",
        "            rmse = mse**.5\n",
        "            resultsMSE.append(\"trees count \"+str(tree)+\" depth \"+str(depth)+\" MSE result \"+str(mse))\n",
        "            print(\"\\n MSE: %.2f\" %mse)\n",
        "            print(\"RMSE: %.2f\" %rmse)"
      ],
      "metadata": {
        "colab": {
          "base_uri": "https://localhost:8080/"
        },
        "id": "3ZMWLUfrEz1p",
        "outputId": "2bda2166-306f-48f9-e5ca-67583d4f4854"
      },
      "execution_count": 15,
      "outputs": [
        {
          "output_type": "stream",
          "name": "stdout",
          "text": [
            "\n",
            " MSE: 0.30\n",
            "RMSE: 0.55\n",
            "\n",
            " MSE: 0.24\n",
            "RMSE: 0.49\n",
            "\n",
            " MSE: 0.19\n",
            "RMSE: 0.43\n",
            "\n",
            " MSE: 0.11\n",
            "RMSE: 0.33\n",
            "\n",
            " MSE: 0.08\n",
            "RMSE: 0.28\n",
            "\n",
            " MSE: 0.06\n",
            "RMSE: 0.24\n",
            "\n",
            " MSE: 0.03\n",
            "RMSE: 0.18\n",
            "\n",
            " MSE: 0.03\n",
            "RMSE: 0.17\n",
            "\n",
            " MSE: 0.05\n",
            "RMSE: 0.22\n",
            "\n",
            " MSE: 0.02\n",
            "RMSE: 0.14\n",
            "\n",
            " MSE: 0.02\n",
            "RMSE: 0.14\n",
            "\n",
            " MSE: 0.02\n",
            "RMSE: 0.14\n",
            "\n",
            " MSE: 0.02\n",
            "RMSE: 0.15\n",
            "\n",
            " MSE: 0.02\n",
            "RMSE: 0.15\n",
            "\n",
            " MSE: 0.30\n",
            "RMSE: 0.54\n",
            "\n",
            " MSE: 0.24\n",
            "RMSE: 0.49\n",
            "\n",
            " MSE: 0.19\n",
            "RMSE: 0.43\n",
            "\n",
            " MSE: 0.11\n",
            "RMSE: 0.34\n",
            "\n",
            " MSE: 0.08\n",
            "RMSE: 0.29\n",
            "\n",
            " MSE: 0.05\n",
            "RMSE: 0.22\n",
            "\n",
            " MSE: 0.04\n",
            "RMSE: 0.19\n",
            "\n",
            " MSE: 0.02\n",
            "RMSE: 0.14\n",
            "\n",
            " MSE: 0.02\n",
            "RMSE: 0.16\n",
            "\n",
            " MSE: 0.01\n",
            "RMSE: 0.12\n",
            "\n",
            " MSE: 0.01\n",
            "RMSE: 0.12\n",
            "\n",
            " MSE: 0.02\n",
            "RMSE: 0.13\n",
            "\n",
            " MSE: 0.02\n",
            "RMSE: 0.12\n",
            "\n",
            " MSE: 0.01\n",
            "RMSE: 0.12\n",
            "\n",
            " MSE: 0.30\n",
            "RMSE: 0.55\n",
            "\n",
            " MSE: 0.24\n",
            "RMSE: 0.49\n",
            "\n",
            " MSE: 0.19\n",
            "RMSE: 0.43\n",
            "\n",
            " MSE: 0.11\n",
            "RMSE: 0.34\n",
            "\n",
            " MSE: 0.08\n",
            "RMSE: 0.28\n",
            "\n",
            " MSE: 0.05\n",
            "RMSE: 0.22\n",
            "\n",
            " MSE: 0.03\n",
            "RMSE: 0.17\n",
            "\n",
            " MSE: 0.02\n",
            "RMSE: 0.14\n",
            "\n",
            " MSE: 0.01\n",
            "RMSE: 0.12\n",
            "\n",
            " MSE: 0.01\n",
            "RMSE: 0.12\n",
            "\n",
            " MSE: 0.01\n",
            "RMSE: 0.12\n",
            "\n",
            " MSE: 0.01\n",
            "RMSE: 0.11\n",
            "\n",
            " MSE: 0.01\n",
            "RMSE: 0.12\n",
            "\n",
            " MSE: 0.01\n",
            "RMSE: 0.12\n",
            "\n",
            " MSE: 0.30\n",
            "RMSE: 0.54\n",
            "\n",
            " MSE: 0.24\n",
            "RMSE: 0.49\n",
            "\n",
            " MSE: 0.18\n",
            "RMSE: 0.43\n",
            "\n",
            " MSE: 0.11\n",
            "RMSE: 0.34\n",
            "\n",
            " MSE: 0.08\n",
            "RMSE: 0.28\n",
            "\n",
            " MSE: 0.05\n",
            "RMSE: 0.22\n",
            "\n",
            " MSE: 0.03\n",
            "RMSE: 0.16\n",
            "\n",
            " MSE: 0.02\n",
            "RMSE: 0.13\n",
            "\n",
            " MSE: 0.02\n",
            "RMSE: 0.12\n",
            "\n",
            " MSE: 0.01\n",
            "RMSE: 0.12\n",
            "\n",
            " MSE: 0.01\n",
            "RMSE: 0.11\n",
            "\n",
            " MSE: 0.01\n",
            "RMSE: 0.12\n",
            "\n",
            " MSE: 0.01\n",
            "RMSE: 0.11\n",
            "\n",
            " MSE: 0.01\n",
            "RMSE: 0.11\n",
            "\n",
            " MSE: 0.30\n",
            "RMSE: 0.55\n",
            "\n",
            " MSE: 0.24\n",
            "RMSE: 0.49\n",
            "\n",
            " MSE: 0.18\n",
            "RMSE: 0.43\n",
            "\n",
            " MSE: 0.11\n",
            "RMSE: 0.34\n",
            "\n",
            " MSE: 0.08\n",
            "RMSE: 0.29\n",
            "\n",
            " MSE: 0.05\n",
            "RMSE: 0.22\n",
            "\n",
            " MSE: 0.03\n",
            "RMSE: 0.17\n",
            "\n",
            " MSE: 0.02\n",
            "RMSE: 0.13\n",
            "\n",
            " MSE: 0.01\n",
            "RMSE: 0.11\n",
            "\n",
            " MSE: 0.01\n",
            "RMSE: 0.12\n",
            "\n",
            " MSE: 0.01\n",
            "RMSE: 0.11\n",
            "\n",
            " MSE: 0.01\n",
            "RMSE: 0.11\n",
            "\n",
            " MSE: 0.01\n",
            "RMSE: 0.11\n",
            "\n",
            " MSE: 0.01\n",
            "RMSE: 0.11\n",
            "\n",
            " MSE: 0.30\n",
            "RMSE: 0.55\n",
            "\n",
            " MSE: 0.24\n",
            "RMSE: 0.49\n",
            "\n",
            " MSE: 0.18\n",
            "RMSE: 0.43\n",
            "\n",
            " MSE: 0.11\n",
            "RMSE: 0.34\n",
            "\n",
            " MSE: 0.08\n",
            "RMSE: 0.28\n",
            "\n",
            " MSE: 0.05\n",
            "RMSE: 0.22\n",
            "\n",
            " MSE: 0.03\n",
            "RMSE: 0.16\n",
            "\n",
            " MSE: 0.02\n",
            "RMSE: 0.14\n",
            "\n",
            " MSE: 0.01\n",
            "RMSE: 0.12\n",
            "\n",
            " MSE: 0.01\n",
            "RMSE: 0.12\n",
            "\n",
            " MSE: 0.01\n",
            "RMSE: 0.11\n",
            "\n",
            " MSE: 0.01\n",
            "RMSE: 0.11\n",
            "\n",
            " MSE: 0.01\n",
            "RMSE: 0.11\n",
            "\n",
            " MSE: 0.01\n",
            "RMSE: 0.11\n",
            "\n",
            " MSE: 0.30\n",
            "RMSE: 0.55\n",
            "\n",
            " MSE: 0.24\n",
            "RMSE: 0.49\n",
            "\n",
            " MSE: 0.18\n",
            "RMSE: 0.43\n",
            "\n",
            " MSE: 0.11\n",
            "RMSE: 0.34\n",
            "\n",
            " MSE: 0.08\n",
            "RMSE: 0.28\n",
            "\n",
            " MSE: 0.05\n",
            "RMSE: 0.22\n",
            "\n",
            " MSE: 0.03\n",
            "RMSE: 0.17\n",
            "\n",
            " MSE: 0.02\n",
            "RMSE: 0.13\n",
            "\n",
            " MSE: 0.01\n",
            "RMSE: 0.11\n",
            "\n",
            " MSE: 0.01\n",
            "RMSE: 0.11\n",
            "\n",
            " MSE: 0.01\n",
            "RMSE: 0.11\n",
            "\n",
            " MSE: 0.01\n",
            "RMSE: 0.11\n",
            "\n",
            " MSE: 0.01\n",
            "RMSE: 0.11\n",
            "\n",
            " MSE: 0.01\n",
            "RMSE: 0.11\n",
            "\n",
            " MSE: 0.30\n",
            "RMSE: 0.55\n",
            "\n",
            " MSE: 0.24\n",
            "RMSE: 0.49\n",
            "\n",
            " MSE: 0.18\n",
            "RMSE: 0.43\n",
            "\n",
            " MSE: 0.11\n",
            "RMSE: 0.34\n",
            "\n",
            " MSE: 0.08\n",
            "RMSE: 0.28\n",
            "\n",
            " MSE: 0.05\n",
            "RMSE: 0.22\n",
            "\n",
            " MSE: 0.03\n",
            "RMSE: 0.17\n",
            "\n",
            " MSE: 0.02\n",
            "RMSE: 0.14\n",
            "\n",
            " MSE: 0.01\n",
            "RMSE: 0.11\n",
            "\n",
            " MSE: 0.01\n",
            "RMSE: 0.11\n",
            "\n",
            " MSE: 0.01\n",
            "RMSE: 0.11\n",
            "\n",
            " MSE: 0.01\n",
            "RMSE: 0.11\n",
            "\n",
            " MSE: 0.01\n",
            "RMSE: 0.11\n",
            "\n",
            " MSE: 0.01\n",
            "RMSE: 0.11\n",
            "\n",
            " MSE: 0.30\n",
            "RMSE: 0.55\n",
            "\n",
            " MSE: 0.24\n",
            "RMSE: 0.49\n",
            "\n",
            " MSE: 0.18\n",
            "RMSE: 0.43\n",
            "\n",
            " MSE: 0.10\n",
            "RMSE: 0.32\n",
            "\n",
            " MSE: 0.08\n",
            "RMSE: 0.29\n",
            "\n",
            " MSE: 0.05\n",
            "RMSE: 0.22\n",
            "\n",
            " MSE: 0.04\n",
            "RMSE: 0.19\n",
            "\n",
            " MSE: 0.02\n",
            "RMSE: 0.14\n",
            "\n",
            " MSE: 0.01\n",
            "RMSE: 0.12\n",
            "\n",
            " MSE: 0.01\n",
            "RMSE: 0.11\n",
            "\n",
            " MSE: 0.01\n",
            "RMSE: 0.11\n",
            "\n",
            " MSE: 0.01\n",
            "RMSE: 0.11\n",
            "\n",
            " MSE: 0.01\n",
            "RMSE: 0.11\n",
            "\n",
            " MSE: 0.01\n",
            "RMSE: 0.11\n"
          ]
        }
      ]
    },
    {
      "cell_type": "code",
      "source": [
        "# From the above it is seen that the mean squared error(MSE) and root mean squared error(RMSE) is least when the tree depth is 11 ,\n",
        "# irrespective of the tree size increase after 4."
      ],
      "metadata": {
        "id": "x0ihEns3FApJ"
      },
      "execution_count": 16,
      "outputs": []
    },
    {
      "cell_type": "code",
      "source": [
        "clf = rf( n_estimators=4,\n",
        "         max_depth = 11,\n",
        "         oob_score = True  )\n",
        "\n",
        "clf.fit(X_train, y_train)\n",
        "prediction = clf.predict(X_test)\n",
        "mse = mean_squared_error(y_test, prediction)\n",
        "rmse = mse**.5\n",
        "print(\"\\n MSE: %.2f\" %mse)\n",
        "print(\"RMSE: %.2f\" %rmse)"
      ],
      "metadata": {
        "colab": {
          "base_uri": "https://localhost:8080/"
        },
        "id": "hCn31qL1FTpo",
        "outputId": "77b2eaeb-8ae6-4942-8657-6f0829b3fc28"
      },
      "execution_count": 17,
      "outputs": [
        {
          "output_type": "stream",
          "name": "stdout",
          "text": [
            "\n",
            " MSE: 0.01\n",
            "RMSE: 0.12\n"
          ]
        }
      ]
    },
    {
      "cell_type": "markdown",
      "source": [
        "# Random Forest Model"
      ],
      "metadata": {
        "id": "aRt-cgTqFpMn"
      }
    },
    {
      "cell_type": "markdown",
      "source": [
        "K-Fold Cross Validation"
      ],
      "metadata": {
        "id": "kmAXo0jZFwjA"
      }
    },
    {
      "cell_type": "code",
      "source": [
        "from sklearn.model_selection import cross_val_score, KFold"
      ],
      "metadata": {
        "id": "-rfWmggHFz0-"
      },
      "execution_count": 18,
      "outputs": []
    },
    {
      "cell_type": "code",
      "source": [
        "kfold = KFold(n_splits=5, shuffle=True)\n",
        "kf_cv_scores = cross_val_score(clf, X_train, y_train, cv=kfold )\n",
        "print(\"K-fold CV average score: %.2f\" % kf_cv_scores.mean())\n",
        "ypred = clf.predict(X_test)\n",
        "mse = mean_squared_error(y_test, ypred)\n",
        "print(\"MSE: %.2f\" % mse)\n",
        "print(\"RMSE: %.2f\" % (mse**(1/2.0)))"
      ],
      "metadata": {
        "colab": {
          "base_uri": "https://localhost:8080/"
        },
        "id": "63lWIwh1F739",
        "outputId": "5e93f7eb-7b3b-4444-9618-a54592a0dca0"
      },
      "execution_count": 19,
      "outputs": [
        {
          "output_type": "stream",
          "name": "stdout",
          "text": [
            "K-fold CV average score: 0.96\n",
            "MSE: 0.01\n",
            "RMSE: 0.12\n"
          ]
        }
      ]
    },
    {
      "cell_type": "markdown",
      "source": [
        "Conclusion\n",
        "\n",
        "Here, we tried using 3 different algorithms to understand which model to use to predict the weekly sales.\n",
        "\n",
        "Linear Regression is not an appropriate model to use as accuracy is very low.\n",
        "\n",
        "However, Random Forest Regression gives accuracy of almost 95% . so, it is the best model to forecast weekly sales."
      ],
      "metadata": {
        "id": "5rthbwb7HfOs"
      }
    },
    {
      "cell_type": "code",
      "source": [],
      "metadata": {
        "id": "TsJ1CKCPHl9-"
      },
      "execution_count": 19,
      "outputs": []
    }
  ]
}